{
  "nbformat": 4,
  "nbformat_minor": 0,
  "metadata": {
    "colab": {
      "name": "Comandos básicos.ipynb",
      "provenance": [],
      "collapsed_sections": [
        "8sAFmMAaJZfT",
        "AJFMZyyARB7b",
        "Nd_f5o3fU1z_",
        "2b1kjhWQETaM",
        "vZxVF5jiHQju"
      ],
      "toc_visible": true,
      "include_colab_link": true
    },
    "kernelspec": {
      "name": "python3",
      "display_name": "Python 3"
    }
  },
  "cells": [
    {
      "cell_type": "markdown",
      "metadata": {
        "id": "view-in-github",
        "colab_type": "text"
      },
      "source": [
        "<a href=\"https://colab.research.google.com/github/arvitorino/Python/blob/master/Comandos_b%C3%A1sicos.ipynb\" target=\"_parent\"><img src=\"https://colab.research.google.com/assets/colab-badge.svg\" alt=\"Open In Colab\"/></a>"
      ]
    },
    {
      "cell_type": "code",
      "metadata": {
        "id": "Og_AwgqzuT95",
        "colab_type": "code",
        "colab": {}
      },
      "source": [
        "import pandas as pd\n",
        "import numpy as np\n",
        "from numpy.random import randn"
      ],
      "execution_count": 0,
      "outputs": []
    },
    {
      "cell_type": "code",
      "metadata": {
        "id": "j_-u4piHLbbh",
        "colab_type": "code",
        "colab": {}
      },
      "source": [
        "# Instalando pacotes no jupyter/colab\n",
        "!pip install <nome do pacote>"
      ],
      "execution_count": 0,
      "outputs": []
    },
    {
      "cell_type": "markdown",
      "metadata": {
        "id": "LwYS5d_rx_bH",
        "colab_type": "text"
      },
      "source": [
        "### Loading Data"
      ]
    },
    {
      "cell_type": "code",
      "metadata": {
        "id": "IPtMBMlfx3Oq",
        "colab_type": "code",
        "colab": {}
      },
      "source": [
        "# Importando arquivos\n",
        "\n",
        "pd.read_excel('Path do arquivo/nome_arquivo.xlsx')\n",
        "pd.read_csv('Path do arquivo/nome_arquivo.csv')"
      ],
      "execution_count": 0,
      "outputs": []
    },
    {
      "cell_type": "markdown",
      "metadata": {
        "id": "2-pb_AYBvGPK",
        "colab_type": "text"
      },
      "source": [
        "### Configurações"
      ]
    },
    {
      "cell_type": "code",
      "metadata": {
        "id": "gaRumvwqDyaZ",
        "colab_type": "code",
        "colab": {}
      },
      "source": [
        "# Alterando diretório dos arquivos.\n",
        "\n",
        "import os\n",
        "\n",
        "# Escolhendo o diretório\n",
        "os.chdir(\"C:\\\\\")"
      ],
      "execution_count": 0,
      "outputs": []
    },
    {
      "cell_type": "code",
      "metadata": {
        "id": "Bz11gadyvVsi",
        "colab_type": "code",
        "colab": {}
      },
      "source": [
        "# Alterando a configuração de decimais do tipo float no PANDAS\n",
        "pd.options.display.float_format = '{:.3f}'.format "
      ],
      "execution_count": 0,
      "outputs": []
    },
    {
      "cell_type": "markdown",
      "metadata": {
        "id": "3kqVCdwqv-HO",
        "colab_type": "text"
      },
      "source": [
        "### Data Frame"
      ]
    },
    {
      "cell_type": "markdown",
      "metadata": {
        "id": "1XF-dWIOwECy",
        "colab_type": "text"
      },
      "source": [
        "#### Criando Data Frame"
      ]
    },
    {
      "cell_type": "code",
      "metadata": {
        "id": "c9OeN4A4uebP",
        "colab_type": "code",
        "colab": {}
      },
      "source": [
        "#Criando uma data frame como exemplo\n",
        "\n",
        "df = pd.DataFrame({'Card':list('baaaaa'),\n",
        "                   'Rand':randn(6),\n",
        "                   'Date':['2017-10-01'] * 6,\n",
        "                   'Heure':[1,3,5,7,1,None],\n",
        "                   'Type':[5,5,5,9,5,9],\n",
        "                   'member':list('aaabbb')})"
      ],
      "execution_count": 0,
      "outputs": []
    },
    {
      "cell_type": "markdown",
      "metadata": {
        "id": "O0iQlcpTSnju",
        "colab_type": "text"
      },
      "source": [
        "#### Básicos"
      ]
    },
    {
      "cell_type": "code",
      "metadata": {
        "id": "ZxnxJZ1oviaP",
        "colab_type": "code",
        "colab": {}
      },
      "source": [
        "# Tamanho da sua base de dados\n",
        "df.shape"
      ],
      "execution_count": 0,
      "outputs": []
    },
    {
      "cell_type": "code",
      "metadata": {
        "id": "u_mWKeipvtA7",
        "colab_type": "code",
        "colab": {}
      },
      "source": [
        "# Descritivo da suas varíaveis numéricas\n",
        "df.describe()"
      ],
      "execution_count": 0,
      "outputs": []
    },
    {
      "cell_type": "code",
      "metadata": {
        "id": "mp_5hfmIyOQX",
        "colab_type": "code",
        "colab": {}
      },
      "source": [
        "# \n",
        "display(df.head())"
      ],
      "execution_count": 0,
      "outputs": []
    },
    {
      "cell_type": "code",
      "metadata": {
        "id": "abV9cJwpwIOj",
        "colab_type": "code",
        "colab": {}
      },
      "source": [
        "# Informações básicas do data frame\n",
        "df.info()"
      ],
      "execution_count": 0,
      "outputs": []
    },
    {
      "cell_type": "code",
      "metadata": {
        "id": "LXy2FkAdHb85",
        "colab_type": "code",
        "colab": {}
      },
      "source": [
        "# Visualizando colunas\n",
        "\n",
        "df[['Card', 'member']]"
      ],
      "execution_count": 0,
      "outputs": []
    },
    {
      "cell_type": "code",
      "metadata": {
        "id": "mX9F_NVVp5WD",
        "colab_type": "code",
        "colab": {}
      },
      "source": [
        "# Renomeado colunas\n",
        "df = df.rename(columns={'oldName1': 'newName1', 'oldName2': 'newName2'})"
      ],
      "execution_count": 0,
      "outputs": []
    },
    {
      "cell_type": "markdown",
      "metadata": {
        "id": "AD-oE70BgpxI",
        "colab_type": "text"
      },
      "source": [
        "#### Converção tipo de dados"
      ]
    },
    {
      "cell_type": "code",
      "metadata": {
        "id": "a1GRWnqCgqMH",
        "colab_type": "code",
        "colab": {}
      },
      "source": [
        "# Convertendo em float\n",
        "df['COLUM_NAME'] = df.COLUM_NAME.astype(float)"
      ],
      "execution_count": 0,
      "outputs": []
    },
    {
      "cell_type": "markdown",
      "metadata": {
        "id": "uBfwePBI9im0",
        "colab_type": "text"
      },
      "source": [
        "#### Trantando Valores Nulos"
      ]
    },
    {
      "cell_type": "code",
      "metadata": {
        "id": "GJyy5jKi9bD1",
        "colab_type": "code",
        "colab": {}
      },
      "source": [
        "# Retonar linhas com valores nulos\n",
        "df[df.isnull().any(axis=1)]"
      ],
      "execution_count": 0,
      "outputs": []
    },
    {
      "cell_type": "code",
      "metadata": {
        "id": "Aqb9SYGgw737",
        "colab_type": "code",
        "colab": {}
      },
      "source": [
        "# Eliminando as linhas que contém valores nulos\n",
        "df.dropna() "
      ],
      "execution_count": 0,
      "outputs": []
    },
    {
      "cell_type": "code",
      "metadata": {
        "id": "Qb7vsiFn94Tb",
        "colab_type": "code",
        "colab": {}
      },
      "source": [
        "# Preechendo os valores nulos (Nan)\n",
        "df = pd.DataFrame([[np.nan, 2, np.nan, 0],\n",
        "                    [3, 4, np.nan, 1],\n",
        "                    [np.nan, np.nan, np.nan, 5],\n",
        "                    [np.nan, 3, np.nan, 4]],\n",
        "                    columns=list('ABCD'))\n",
        "\n",
        "values = {'A': 0, 'B': 1, 'C': 2, 'D': 3}\n",
        "df.fillna(value=values)"
      ],
      "execution_count": 0,
      "outputs": []
    },
    {
      "cell_type": "markdown",
      "metadata": {
        "id": "ys08HFqhwJNn",
        "colab_type": "text"
      },
      "source": [
        "#### Dropar colunas/linhas"
      ]
    },
    {
      "cell_type": "code",
      "metadata": {
        "id": "DZNgSCzzwLAh",
        "colab_type": "code",
        "colab": {}
      },
      "source": [
        "# Deletando a coluna 0\n",
        "df.drop(df.columns[[0]], axis=1)\n",
        "\n",
        "# Deletando a coluna 0 e 1\n",
        "df.drop(df.columns[[0,1]], axis=1, inplace = True) # inplace vai substituir o o df atual\n",
        "\n",
        "# Usando o nome da coluna\n",
        "df.drop(['coluna1','coluna2'], axis=1, inplace = True) # inplace vai substituir o o df atual"
      ],
      "execution_count": 0,
      "outputs": []
    },
    {
      "cell_type": "code",
      "metadata": {
        "id": "zI8foFhOXDnS",
        "colab_type": "code",
        "colab": {}
      },
      "source": [
        "# Dropando linhas especfícas utilizando index\n",
        "\n",
        "i = df.loc[df.index == 2].index\n",
        "df.drop(i) "
      ],
      "execution_count": 0,
      "outputs": []
    },
    {
      "cell_type": "markdown",
      "metadata": {
        "id": "8sAFmMAaJZfT",
        "colab_type": "text"
      },
      "source": [
        "#### Localizando elementos "
      ]
    },
    {
      "cell_type": "code",
      "metadata": {
        "id": "wV9MMvlqvJDX",
        "colab_type": "code",
        "colab": {}
      },
      "source": [
        "# Procurando um valor por index\n",
        "df.loc[df.index == 2]"
      ],
      "execution_count": 0,
      "outputs": []
    },
    {
      "cell_type": "code",
      "metadata": {
        "id": "rxVZ0gu_JfHi",
        "colab_type": "code",
        "outputId": "1d42beb1-7557-4335-8132-03e4364d9ed9",
        "colab": {
          "base_uri": "https://localhost:8080/",
          "height": 135
        }
      },
      "source": [
        "# Localizando valores dos indíces 0 a 2 das colunas 'Card' e 'member'\n",
        "# Use o loc para nomes das colunas e nome dos índices\n",
        "\n",
        "df.loc[ 0:2, ['Card', 'member']]"
      ],
      "execution_count": 0,
      "outputs": [
        {
          "output_type": "execute_result",
          "data": {
            "text/html": [
              "<div>\n",
              "<style scoped>\n",
              "    .dataframe tbody tr th:only-of-type {\n",
              "        vertical-align: middle;\n",
              "    }\n",
              "\n",
              "    .dataframe tbody tr th {\n",
              "        vertical-align: top;\n",
              "    }\n",
              "\n",
              "    .dataframe thead th {\n",
              "        text-align: right;\n",
              "    }\n",
              "</style>\n",
              "<table border=\"1\" class=\"dataframe\">\n",
              "  <thead>\n",
              "    <tr style=\"text-align: right;\">\n",
              "      <th></th>\n",
              "      <th>Card</th>\n",
              "      <th>member</th>\n",
              "    </tr>\n",
              "  </thead>\n",
              "  <tbody>\n",
              "    <tr>\n",
              "      <th>0</th>\n",
              "      <td>b</td>\n",
              "      <td>a</td>\n",
              "    </tr>\n",
              "    <tr>\n",
              "      <th>1</th>\n",
              "      <td>a</td>\n",
              "      <td>a</td>\n",
              "    </tr>\n",
              "    <tr>\n",
              "      <th>2</th>\n",
              "      <td>a</td>\n",
              "      <td>a</td>\n",
              "    </tr>\n",
              "  </tbody>\n",
              "</table>\n",
              "</div>"
            ],
            "text/plain": [
              "  Card member\n",
              "0    b      a\n",
              "1    a      a\n",
              "2    a      a"
            ]
          },
          "metadata": {
            "tags": []
          },
          "execution_count": 4
        }
      ]
    },
    {
      "cell_type": "code",
      "metadata": {
        "id": "YnfAVHaHKiO_",
        "colab_type": "code",
        "outputId": "041ed499-6a18-4c22-ab5a-642712d7d2a5",
        "colab": {
          "base_uri": "https://localhost:8080/",
          "height": 106
        }
      },
      "source": [
        "# Localizando valores dos indíces 0 a 2\n",
        "# use o iloc para índices\n",
        "\n",
        "df.iloc[0:2]"
      ],
      "execution_count": 0,
      "outputs": [
        {
          "output_type": "execute_result",
          "data": {
            "text/html": [
              "<div>\n",
              "<style scoped>\n",
              "    .dataframe tbody tr th:only-of-type {\n",
              "        vertical-align: middle;\n",
              "    }\n",
              "\n",
              "    .dataframe tbody tr th {\n",
              "        vertical-align: top;\n",
              "    }\n",
              "\n",
              "    .dataframe thead th {\n",
              "        text-align: right;\n",
              "    }\n",
              "</style>\n",
              "<table border=\"1\" class=\"dataframe\">\n",
              "  <thead>\n",
              "    <tr style=\"text-align: right;\">\n",
              "      <th></th>\n",
              "      <th>Card</th>\n",
              "      <th>Date</th>\n",
              "      <th>Heure</th>\n",
              "      <th>Rand</th>\n",
              "      <th>Type</th>\n",
              "      <th>member</th>\n",
              "    </tr>\n",
              "  </thead>\n",
              "  <tbody>\n",
              "    <tr>\n",
              "      <th>0</th>\n",
              "      <td>b</td>\n",
              "      <td>2017-10-01</td>\n",
              "      <td>1.0</td>\n",
              "      <td>0.144044</td>\n",
              "      <td>5</td>\n",
              "      <td>a</td>\n",
              "    </tr>\n",
              "    <tr>\n",
              "      <th>1</th>\n",
              "      <td>a</td>\n",
              "      <td>2017-10-01</td>\n",
              "      <td>3.0</td>\n",
              "      <td>1.454274</td>\n",
              "      <td>5</td>\n",
              "      <td>a</td>\n",
              "    </tr>\n",
              "  </tbody>\n",
              "</table>\n",
              "</div>"
            ],
            "text/plain": [
              "  Card        Date  Heure      Rand  Type member\n",
              "0    b  2017-10-01    1.0  0.144044     5      a\n",
              "1    a  2017-10-01    3.0  1.454274     5      a"
            ]
          },
          "metadata": {
            "tags": []
          },
          "execution_count": 58
        }
      ]
    },
    {
      "cell_type": "markdown",
      "metadata": {
        "id": "AJFMZyyARB7b",
        "colab_type": "text"
      },
      "source": [
        "#### Filtrando e comparando"
      ]
    },
    {
      "cell_type": "code",
      "metadata": {
        "id": "fTw6Sdk0RErn",
        "colab_type": "code",
        "outputId": "326b55e4-0c79-4777-8e12-c64aed3b0bda",
        "colab": {
          "base_uri": "https://localhost:8080/",
          "height": 76
        }
      },
      "source": [
        "# Filtrando\n",
        "df[df['Rand']>1]"
      ],
      "execution_count": 0,
      "outputs": [
        {
          "output_type": "execute_result",
          "data": {
            "text/html": [
              "<div>\n",
              "<style scoped>\n",
              "    .dataframe tbody tr th:only-of-type {\n",
              "        vertical-align: middle;\n",
              "    }\n",
              "\n",
              "    .dataframe tbody tr th {\n",
              "        vertical-align: top;\n",
              "    }\n",
              "\n",
              "    .dataframe thead th {\n",
              "        text-align: right;\n",
              "    }\n",
              "</style>\n",
              "<table border=\"1\" class=\"dataframe\">\n",
              "  <thead>\n",
              "    <tr style=\"text-align: right;\">\n",
              "      <th></th>\n",
              "      <th>Card</th>\n",
              "      <th>Date</th>\n",
              "      <th>Heure</th>\n",
              "      <th>Rand</th>\n",
              "      <th>Type</th>\n",
              "      <th>member</th>\n",
              "    </tr>\n",
              "  </thead>\n",
              "  <tbody>\n",
              "    <tr>\n",
              "      <th>1</th>\n",
              "      <td>a</td>\n",
              "      <td>2017-10-01</td>\n",
              "      <td>3.0</td>\n",
              "      <td>1.454274</td>\n",
              "      <td>5</td>\n",
              "      <td>a</td>\n",
              "    </tr>\n",
              "  </tbody>\n",
              "</table>\n",
              "</div>"
            ],
            "text/plain": [
              "  Card        Date  Heure      Rand  Type member\n",
              "1    a  2017-10-01    3.0  1.454274     5      a"
            ]
          },
          "metadata": {
            "tags": []
          },
          "execution_count": 53
        }
      ]
    },
    {
      "cell_type": "code",
      "metadata": {
        "id": "G-O5fBR_RbP5",
        "colab_type": "code",
        "outputId": "762d6379-8f10-4888-97f6-5e2e5987c5ba",
        "colab": {
          "base_uri": "https://localhost:8080/",
          "height": 88
        }
      },
      "source": [
        "# Filtrando e selecionando apenas uma coluna\n",
        "df[df['Heure']>1]['Date']"
      ],
      "execution_count": 0,
      "outputs": [
        {
          "output_type": "execute_result",
          "data": {
            "text/plain": [
              "1    2017-10-01\n",
              "2    2017-10-01\n",
              "3    2017-10-01\n",
              "Name: Date, dtype: object"
            ]
          },
          "metadata": {
            "tags": []
          },
          "execution_count": 55
        }
      ]
    },
    {
      "cell_type": "code",
      "metadata": {
        "id": "Gvvj_XcmSA-J",
        "colab_type": "code",
        "outputId": "e513ff2e-4c49-4b48-8f28-f23275209cdf",
        "colab": {
          "base_uri": "https://localhost:8080/",
          "height": 76
        }
      },
      "source": [
        "# Comparando usando AND\n",
        "df[(df['Heure']>1) & (df['Rand']>1) ]"
      ],
      "execution_count": 0,
      "outputs": [
        {
          "output_type": "execute_result",
          "data": {
            "text/html": [
              "<div>\n",
              "<style scoped>\n",
              "    .dataframe tbody tr th:only-of-type {\n",
              "        vertical-align: middle;\n",
              "    }\n",
              "\n",
              "    .dataframe tbody tr th {\n",
              "        vertical-align: top;\n",
              "    }\n",
              "\n",
              "    .dataframe thead th {\n",
              "        text-align: right;\n",
              "    }\n",
              "</style>\n",
              "<table border=\"1\" class=\"dataframe\">\n",
              "  <thead>\n",
              "    <tr style=\"text-align: right;\">\n",
              "      <th></th>\n",
              "      <th>Card</th>\n",
              "      <th>Date</th>\n",
              "      <th>Heure</th>\n",
              "      <th>Rand</th>\n",
              "      <th>Type</th>\n",
              "      <th>member</th>\n",
              "    </tr>\n",
              "  </thead>\n",
              "  <tbody>\n",
              "    <tr>\n",
              "      <th>1</th>\n",
              "      <td>a</td>\n",
              "      <td>2017-10-01</td>\n",
              "      <td>3.0</td>\n",
              "      <td>1.454274</td>\n",
              "      <td>5</td>\n",
              "      <td>a</td>\n",
              "    </tr>\n",
              "  </tbody>\n",
              "</table>\n",
              "</div>"
            ],
            "text/plain": [
              "  Card        Date  Heure      Rand  Type member\n",
              "1    a  2017-10-01    3.0  1.454274     5      a"
            ]
          },
          "metadata": {
            "tags": []
          },
          "execution_count": 56
        }
      ]
    },
    {
      "cell_type": "code",
      "metadata": {
        "id": "YgV2sqpASWww",
        "colab_type": "code",
        "outputId": "f92e96ca-d33c-499f-982a-08b7189eb292",
        "colab": {
          "base_uri": "https://localhost:8080/",
          "height": 135
        }
      },
      "source": [
        "# Comparando usando OR\n",
        "df[(df['Heure']>1) | (df['Rand']>1) ]"
      ],
      "execution_count": 0,
      "outputs": [
        {
          "output_type": "execute_result",
          "data": {
            "text/html": [
              "<div>\n",
              "<style scoped>\n",
              "    .dataframe tbody tr th:only-of-type {\n",
              "        vertical-align: middle;\n",
              "    }\n",
              "\n",
              "    .dataframe tbody tr th {\n",
              "        vertical-align: top;\n",
              "    }\n",
              "\n",
              "    .dataframe thead th {\n",
              "        text-align: right;\n",
              "    }\n",
              "</style>\n",
              "<table border=\"1\" class=\"dataframe\">\n",
              "  <thead>\n",
              "    <tr style=\"text-align: right;\">\n",
              "      <th></th>\n",
              "      <th>Card</th>\n",
              "      <th>Date</th>\n",
              "      <th>Heure</th>\n",
              "      <th>Rand</th>\n",
              "      <th>Type</th>\n",
              "      <th>member</th>\n",
              "    </tr>\n",
              "  </thead>\n",
              "  <tbody>\n",
              "    <tr>\n",
              "      <th>1</th>\n",
              "      <td>a</td>\n",
              "      <td>2017-10-01</td>\n",
              "      <td>3.0</td>\n",
              "      <td>1.454274</td>\n",
              "      <td>5</td>\n",
              "      <td>a</td>\n",
              "    </tr>\n",
              "    <tr>\n",
              "      <th>2</th>\n",
              "      <td>a</td>\n",
              "      <td>2017-10-01</td>\n",
              "      <td>5.0</td>\n",
              "      <td>0.761038</td>\n",
              "      <td>5</td>\n",
              "      <td>a</td>\n",
              "    </tr>\n",
              "    <tr>\n",
              "      <th>3</th>\n",
              "      <td>a</td>\n",
              "      <td>2017-10-01</td>\n",
              "      <td>7.0</td>\n",
              "      <td>0.121675</td>\n",
              "      <td>9</td>\n",
              "      <td>b</td>\n",
              "    </tr>\n",
              "  </tbody>\n",
              "</table>\n",
              "</div>"
            ],
            "text/plain": [
              "  Card        Date  Heure      Rand  Type member\n",
              "1    a  2017-10-01    3.0  1.454274     5      a\n",
              "2    a  2017-10-01    5.0  0.761038     5      a\n",
              "3    a  2017-10-01    7.0  0.121675     9      b"
            ]
          },
          "metadata": {
            "tags": []
          },
          "execution_count": 57
        }
      ]
    },
    {
      "cell_type": "markdown",
      "metadata": {
        "id": "Nd_f5o3fU1z_",
        "colab_type": "text"
      },
      "source": [
        "#### Reset index"
      ]
    },
    {
      "cell_type": "code",
      "metadata": {
        "id": "U-O1jMZMU00e",
        "colab_type": "code",
        "outputId": "d00c6072-3c35-4858-d530-de0615fb8f93",
        "colab": {
          "base_uri": "https://localhost:8080/",
          "height": 223
        }
      },
      "source": [
        "df.reset_index()"
      ],
      "execution_count": 0,
      "outputs": [
        {
          "output_type": "execute_result",
          "data": {
            "text/html": [
              "<div>\n",
              "<style scoped>\n",
              "    .dataframe tbody tr th:only-of-type {\n",
              "        vertical-align: middle;\n",
              "    }\n",
              "\n",
              "    .dataframe tbody tr th {\n",
              "        vertical-align: top;\n",
              "    }\n",
              "\n",
              "    .dataframe thead th {\n",
              "        text-align: right;\n",
              "    }\n",
              "</style>\n",
              "<table border=\"1\" class=\"dataframe\">\n",
              "  <thead>\n",
              "    <tr style=\"text-align: right;\">\n",
              "      <th></th>\n",
              "      <th>index</th>\n",
              "      <th>Card</th>\n",
              "      <th>Date</th>\n",
              "      <th>Heure</th>\n",
              "      <th>Rand</th>\n",
              "      <th>Type</th>\n",
              "      <th>member</th>\n",
              "    </tr>\n",
              "  </thead>\n",
              "  <tbody>\n",
              "    <tr>\n",
              "      <th>0</th>\n",
              "      <td>0</td>\n",
              "      <td>b</td>\n",
              "      <td>2017-10-01</td>\n",
              "      <td>1.0</td>\n",
              "      <td>0.144044</td>\n",
              "      <td>5</td>\n",
              "      <td>a</td>\n",
              "    </tr>\n",
              "    <tr>\n",
              "      <th>1</th>\n",
              "      <td>1</td>\n",
              "      <td>a</td>\n",
              "      <td>2017-10-01</td>\n",
              "      <td>3.0</td>\n",
              "      <td>1.454274</td>\n",
              "      <td>5</td>\n",
              "      <td>a</td>\n",
              "    </tr>\n",
              "    <tr>\n",
              "      <th>2</th>\n",
              "      <td>2</td>\n",
              "      <td>a</td>\n",
              "      <td>2017-10-01</td>\n",
              "      <td>5.0</td>\n",
              "      <td>0.761038</td>\n",
              "      <td>5</td>\n",
              "      <td>a</td>\n",
              "    </tr>\n",
              "    <tr>\n",
              "      <th>3</th>\n",
              "      <td>3</td>\n",
              "      <td>a</td>\n",
              "      <td>2017-10-01</td>\n",
              "      <td>7.0</td>\n",
              "      <td>0.121675</td>\n",
              "      <td>9</td>\n",
              "      <td>b</td>\n",
              "    </tr>\n",
              "    <tr>\n",
              "      <th>4</th>\n",
              "      <td>4</td>\n",
              "      <td>a</td>\n",
              "      <td>2017-10-01</td>\n",
              "      <td>1.0</td>\n",
              "      <td>0.443863</td>\n",
              "      <td>5</td>\n",
              "      <td>b</td>\n",
              "    </tr>\n",
              "    <tr>\n",
              "      <th>5</th>\n",
              "      <td>5</td>\n",
              "      <td>a</td>\n",
              "      <td>2017-10-01</td>\n",
              "      <td>NaN</td>\n",
              "      <td>0.333674</td>\n",
              "      <td>9</td>\n",
              "      <td>b</td>\n",
              "    </tr>\n",
              "  </tbody>\n",
              "</table>\n",
              "</div>"
            ],
            "text/plain": [
              "   index Card        Date  Heure      Rand  Type member\n",
              "0      0    b  2017-10-01    1.0  0.144044     5      a\n",
              "1      1    a  2017-10-01    3.0  1.454274     5      a\n",
              "2      2    a  2017-10-01    5.0  0.761038     5      a\n",
              "3      3    a  2017-10-01    7.0  0.121675     9      b\n",
              "4      4    a  2017-10-01    1.0  0.443863     5      b\n",
              "5      5    a  2017-10-01    NaN  0.333674     9      b"
            ]
          },
          "metadata": {
            "tags": []
          },
          "execution_count": 60
        }
      ]
    },
    {
      "cell_type": "code",
      "metadata": {
        "id": "pR-iG6MEVSzS",
        "colab_type": "code",
        "outputId": "6addaa04-bc3a-48f8-8a97-6eaa00b4a6ef",
        "colab": {
          "base_uri": "https://localhost:8080/",
          "height": 252
        }
      },
      "source": [
        "df.set_index('Rand')"
      ],
      "execution_count": 0,
      "outputs": [
        {
          "output_type": "execute_result",
          "data": {
            "text/html": [
              "<div>\n",
              "<style scoped>\n",
              "    .dataframe tbody tr th:only-of-type {\n",
              "        vertical-align: middle;\n",
              "    }\n",
              "\n",
              "    .dataframe tbody tr th {\n",
              "        vertical-align: top;\n",
              "    }\n",
              "\n",
              "    .dataframe thead th {\n",
              "        text-align: right;\n",
              "    }\n",
              "</style>\n",
              "<table border=\"1\" class=\"dataframe\">\n",
              "  <thead>\n",
              "    <tr style=\"text-align: right;\">\n",
              "      <th></th>\n",
              "      <th>Card</th>\n",
              "      <th>Date</th>\n",
              "      <th>Heure</th>\n",
              "      <th>Type</th>\n",
              "      <th>member</th>\n",
              "    </tr>\n",
              "    <tr>\n",
              "      <th>Rand</th>\n",
              "      <th></th>\n",
              "      <th></th>\n",
              "      <th></th>\n",
              "      <th></th>\n",
              "      <th></th>\n",
              "    </tr>\n",
              "  </thead>\n",
              "  <tbody>\n",
              "    <tr>\n",
              "      <th>0.144044</th>\n",
              "      <td>b</td>\n",
              "      <td>2017-10-01</td>\n",
              "      <td>1.0</td>\n",
              "      <td>5</td>\n",
              "      <td>a</td>\n",
              "    </tr>\n",
              "    <tr>\n",
              "      <th>1.454274</th>\n",
              "      <td>a</td>\n",
              "      <td>2017-10-01</td>\n",
              "      <td>3.0</td>\n",
              "      <td>5</td>\n",
              "      <td>a</td>\n",
              "    </tr>\n",
              "    <tr>\n",
              "      <th>0.761038</th>\n",
              "      <td>a</td>\n",
              "      <td>2017-10-01</td>\n",
              "      <td>5.0</td>\n",
              "      <td>5</td>\n",
              "      <td>a</td>\n",
              "    </tr>\n",
              "    <tr>\n",
              "      <th>0.121675</th>\n",
              "      <td>a</td>\n",
              "      <td>2017-10-01</td>\n",
              "      <td>7.0</td>\n",
              "      <td>9</td>\n",
              "      <td>b</td>\n",
              "    </tr>\n",
              "    <tr>\n",
              "      <th>0.443863</th>\n",
              "      <td>a</td>\n",
              "      <td>2017-10-01</td>\n",
              "      <td>1.0</td>\n",
              "      <td>5</td>\n",
              "      <td>b</td>\n",
              "    </tr>\n",
              "    <tr>\n",
              "      <th>0.333674</th>\n",
              "      <td>a</td>\n",
              "      <td>2017-10-01</td>\n",
              "      <td>NaN</td>\n",
              "      <td>9</td>\n",
              "      <td>b</td>\n",
              "    </tr>\n",
              "  </tbody>\n",
              "</table>\n",
              "</div>"
            ],
            "text/plain": [
              "         Card        Date  Heure  Type member\n",
              "Rand                                         \n",
              "0.144044    b  2017-10-01    1.0     5      a\n",
              "1.454274    a  2017-10-01    3.0     5      a\n",
              "0.761038    a  2017-10-01    5.0     5      a\n",
              "0.121675    a  2017-10-01    7.0     9      b\n",
              "0.443863    a  2017-10-01    1.0     5      b\n",
              "0.333674    a  2017-10-01    NaN     9      b"
            ]
          },
          "metadata": {
            "tags": []
          },
          "execution_count": 61
        }
      ]
    },
    {
      "cell_type": "code",
      "metadata": {
        "id": "5DB5qC7CoeUy",
        "colab_type": "code",
        "colab": {}
      },
      "source": [
        "# Existem tb:\n",
        "\n",
        "# Níveis de Índice\n",
        "outside = ['G1','G1','G1','G2','G2','G2']\n",
        "inside = [1,2,3,1,2,3]\n",
        "hier_index = list(zip(outside,inside))\n",
        "hier_index = pd.MultiIndex.from_tuples(hier_index)\n",
        "\n",
        "df = pd.DataFrame(np.random.randn(6,2),index=hier_index,columns=['A','B'])\n",
        "df\n",
        "\n",
        "df.xs"
      ],
      "execution_count": 0,
      "outputs": []
    },
    {
      "cell_type": "markdown",
      "metadata": {
        "id": "2b1kjhWQETaM",
        "colab_type": "text"
      },
      "source": [
        "#### Joins"
      ]
    },
    {
      "cell_type": "code",
      "metadata": {
        "id": "O_Oc4pLcGoxY",
        "colab_type": "code",
        "colab": {}
      },
      "source": [
        "df1 = pd.DataFrame({'A': ['A0', 'A1', 'A2', 'A3'],\n",
        "                        'B': ['B0', 'B1', 'B2', 'B3'],\n",
        "                        'C': ['C0', 'C1', 'C2', 'C3'],\n",
        "                        'D': ['D0', 'D1', 'D2', 'D3']},\n",
        "                        index=[0, 1, 2, 3])\n",
        "\n",
        "df2 = pd.DataFrame({'A': ['A4', 'A5', 'A6', 'A7'],\n",
        "                        'B': ['B4', 'B5', 'B6', 'B7'],\n",
        "                        'C': ['C4', 'C5', 'C6', 'C7'],\n",
        "                        'D': ['D4', 'D5', 'D6', 'D7']},\n",
        "                         index=[4, 5, 6, 7]) "
      ],
      "execution_count": 0,
      "outputs": []
    },
    {
      "cell_type": "code",
      "metadata": {
        "id": "h4UfhxjUEWt_",
        "colab_type": "code",
        "colab": {}
      },
      "source": [
        "# Union all\n",
        "pd.concat([df1,df2,df3],axis=0)"
      ],
      "execution_count": 0,
      "outputs": []
    },
    {
      "cell_type": "code",
      "metadata": {
        "id": "-vKagR21E5IJ",
        "colab_type": "code",
        "colab": {}
      },
      "source": [
        "# Join all\n",
        "pd.concat([df1,df2,df3],axis=1)"
      ],
      "execution_count": 0,
      "outputs": []
    },
    {
      "cell_type": "code",
      "metadata": {
        "id": "2cXW3EOVFbQf",
        "colab_type": "code",
        "colab": {}
      },
      "source": [
        "# Inner (default)\n",
        "pd.merge(df1,df2,how='inner',on='key')\n",
        "\n",
        "# Outro método\n",
        "\n",
        "df1.join(df2)"
      ],
      "execution_count": 0,
      "outputs": []
    },
    {
      "cell_type": "code",
      "metadata": {
        "id": "DANASvkfFfsg",
        "colab_type": "code",
        "colab": {}
      },
      "source": [
        "# Outer\n",
        "pd.merge(df1, df2, how='outer', on=['key1', 'key2'])\n",
        "\n",
        "# Outro método\n",
        "\n",
        "df1.join(df2, how='outer')"
      ],
      "execution_count": 0,
      "outputs": []
    },
    {
      "cell_type": "code",
      "metadata": {
        "id": "ShTAbrpvFmy0",
        "colab_type": "code",
        "colab": {}
      },
      "source": [
        "# Join Right\n",
        "pd.merge(df1, df2, how='right', on=['key1', 'key2'])"
      ],
      "execution_count": 0,
      "outputs": []
    },
    {
      "cell_type": "code",
      "metadata": {
        "id": "a9r6_-FCGavZ",
        "colab_type": "code",
        "colab": {}
      },
      "source": [
        "# Join Left\n",
        "pd.merge(df1, df2, how='left', on=['key1', 'key2'])"
      ],
      "execution_count": 0,
      "outputs": []
    },
    {
      "cell_type": "markdown",
      "metadata": {
        "id": "9NRJ4VgEZtaS",
        "colab_type": "text"
      },
      "source": [
        "#### Lista"
      ]
    },
    {
      "cell_type": "code",
      "metadata": {
        "id": "IB5G62QXZs3Z",
        "colab_type": "code",
        "outputId": "34d4f2fd-34d5-4bea-df04-fbfb3cf335e3",
        "colab": {
          "base_uri": "https://localhost:8080/",
          "height": 35
        }
      },
      "source": [
        "#Transformando uma coluna em lista\n",
        "\n",
        "df[\"Card\"].tolist()"
      ],
      "execution_count": 0,
      "outputs": [
        {
          "output_type": "execute_result",
          "data": {
            "text/plain": [
              "['b', 'a', 'a', 'a', 'a', 'a']"
            ]
          },
          "metadata": {
            "tags": []
          },
          "execution_count": 3
        }
      ]
    },
    {
      "cell_type": "markdown",
      "metadata": {
        "id": "BFr-WCMNE4vA",
        "colab_type": "text"
      },
      "source": [
        "#### Date\n",
        "\n"
      ]
    },
    {
      "cell_type": "markdown",
      "metadata": {
        "id": "vZxVF5jiHQju",
        "colab_type": "text"
      },
      "source": [
        "#### Operações"
      ]
    },
    {
      "cell_type": "code",
      "metadata": {
        "id": "zeP_SNciHVGo",
        "colab_type": "code",
        "outputId": "7b9df51f-7a07-4cff-acb2-2449c7b5eb10",
        "colab": {
          "base_uri": "https://localhost:8080/",
          "height": 70
        }
      },
      "source": [
        "# Valores únicos\n",
        "\n",
        "df['Card'].nunique()\n",
        "\n",
        "df['Card'].value_counts()\n",
        "\n",
        "df['Card'].count()"
      ],
      "execution_count": 0,
      "outputs": [
        {
          "output_type": "execute_result",
          "data": {
            "text/plain": [
              "a    5\n",
              "b    1\n",
              "Name: Card, dtype: int64"
            ]
          },
          "metadata": {
            "tags": []
          },
          "execution_count": 71
        }
      ]
    },
    {
      "cell_type": "markdown",
      "metadata": {
        "id": "-y4dN4JQwWRT",
        "colab_type": "text"
      },
      "source": [
        "# Outros"
      ]
    },
    {
      "cell_type": "code",
      "metadata": {
        "id": "n-xQu05UXonS",
        "colab_type": "code",
        "colab": {}
      },
      "source": [
        "# Caso não consiga converte um objeto em data utilize:\n",
        "\n",
        "df['teste'] = df['NOME_COLUNA'].apply(pd.to_datetime, errors='coerce')\n",
        "print(df[df.teste.isnull()])\n",
        "\n",
        "# Ele irá retornar as linhas que estão com erro e não correspondem ao formarto correto"
      ],
      "execution_count": 0,
      "outputs": []
    },
    {
      "cell_type": "code",
      "metadata": {
        "id": "xTR3skcOeovp",
        "colab_type": "code",
        "colab": {}
      },
      "source": [
        "dtypes = {'CD_CLIENTE': 'str', 'CD_COMPRA': 'str', 'CD_PRODUTO': 'str', 'VL_UNITARIO': 'int', 'VL_DESCONTO': 'float', 'QTD_SAIDA': 'int'}\n",
        "https://stackoverflow.com/questions/21269399/datetime-dtypes-in-pandas-read-csv"
      ],
      "execution_count": 0,
      "outputs": []
    },
    {
      "cell_type": "markdown",
      "metadata": {
        "id": "5Kyw3tIbWH0P",
        "colab_type": "text"
      },
      "source": [
        "# Funções prontas"
      ]
    },
    {
      "cell_type": "code",
      "metadata": {
        "id": "vxip3ppaWG-r",
        "colab_type": "code",
        "colab": {}
      },
      "source": [
        "# Buscar missing values e retorna uma tabela resumo\n",
        "\n",
        "def missing_values_table(df):\n",
        "    mis_val = df.isnull().sum()\n",
        "    mis_val_percent = df.isnull().sum() / len(df) * 100\n",
        "    mis_val_table = pd.concat([mis_val, mis_val_percent], axis=1)\n",
        "    mis_val_table_ren_columns = mis_val_table.rename(\n",
        "        columns={0: 'Missing Values', 1: '% of Total Values'})\n",
        "    mis_val_table_ren_columns = mis_val_table_ren_columns[\n",
        "        mis_val_table_ren_columns.iloc[:, 1] != 0].sort_values(\n",
        "        '% of Total Values', ascending=False).round(1)\n",
        "    print(\"Your selected dataframe has \" + str(df.shape[1]) + \" columns.\\n\"\n",
        "                                                              \"There are \" + str(mis_val_table_ren_columns.shape[0]) +\n",
        "          \" columns that have missing values.\")\n",
        "\n",
        "    return mis_val_table_ren_columns\n",
        "\n",
        "missing_values_table(df)"
      ],
      "execution_count": 0,
      "outputs": []
    },
    {
      "cell_type": "markdown",
      "metadata": {
        "id": "eI3EfPqnXEtl",
        "colab_type": "text"
      },
      "source": [
        "# Gráficos"
      ]
    },
    {
      "cell_type": "code",
      "metadata": {
        "id": "Q6rehSJSXWvb",
        "colab_type": "code",
        "colab": {}
      },
      "source": [
        "import seaborn as sns\n",
        "import matplotlib.pyplot as plt "
      ],
      "execution_count": 0,
      "outputs": []
    },
    {
      "cell_type": "code",
      "metadata": {
        "id": "MH0_AipFX7co",
        "colab_type": "code",
        "colab": {}
      },
      "source": [
        "df = pd.DataFrame({'Type':list('AAAABB'),\n",
        "                   'Value_A':randn(6),\n",
        "                   'Value_B':[1,3,5,7,1,8],                  \n",
        "                   'Date':['2017-10-01']*6\n",
        "                  })\n"
      ],
      "execution_count": 0,
      "outputs": []
    },
    {
      "cell_type": "code",
      "metadata": {
        "id": "QwjvcbsRYBE7",
        "colab_type": "code",
        "outputId": "3f1a5b15-cdc1-467f-b530-e4739157f89c",
        "colab": {
          "base_uri": "https://localhost:8080/",
          "height": 223
        }
      },
      "source": [
        "df"
      ],
      "execution_count": 0,
      "outputs": [
        {
          "output_type": "execute_result",
          "data": {
            "text/html": [
              "<div>\n",
              "<style scoped>\n",
              "    .dataframe tbody tr th:only-of-type {\n",
              "        vertical-align: middle;\n",
              "    }\n",
              "\n",
              "    .dataframe tbody tr th {\n",
              "        vertical-align: top;\n",
              "    }\n",
              "\n",
              "    .dataframe thead th {\n",
              "        text-align: right;\n",
              "    }\n",
              "</style>\n",
              "<table border=\"1\" class=\"dataframe\">\n",
              "  <thead>\n",
              "    <tr style=\"text-align: right;\">\n",
              "      <th></th>\n",
              "      <th>Type</th>\n",
              "      <th>Value_A</th>\n",
              "      <th>Value_B</th>\n",
              "      <th>Date</th>\n",
              "    </tr>\n",
              "  </thead>\n",
              "  <tbody>\n",
              "    <tr>\n",
              "      <th>0</th>\n",
              "      <td>A</td>\n",
              "      <td>0.812220</td>\n",
              "      <td>1.0</td>\n",
              "      <td>2017-10-01</td>\n",
              "    </tr>\n",
              "    <tr>\n",
              "      <th>1</th>\n",
              "      <td>A</td>\n",
              "      <td>-1.769669</td>\n",
              "      <td>3.0</td>\n",
              "      <td>2017-10-01</td>\n",
              "    </tr>\n",
              "    <tr>\n",
              "      <th>2</th>\n",
              "      <td>A</td>\n",
              "      <td>0.811668</td>\n",
              "      <td>5.0</td>\n",
              "      <td>2017-10-01</td>\n",
              "    </tr>\n",
              "    <tr>\n",
              "      <th>3</th>\n",
              "      <td>A</td>\n",
              "      <td>0.746811</td>\n",
              "      <td>7.0</td>\n",
              "      <td>2017-10-01</td>\n",
              "    </tr>\n",
              "    <tr>\n",
              "      <th>4</th>\n",
              "      <td>B</td>\n",
              "      <td>-0.887362</td>\n",
              "      <td>1.0</td>\n",
              "      <td>2017-10-01</td>\n",
              "    </tr>\n",
              "    <tr>\n",
              "      <th>5</th>\n",
              "      <td>B</td>\n",
              "      <td>0.218713</td>\n",
              "      <td>NaN</td>\n",
              "      <td>2017-10-01</td>\n",
              "    </tr>\n",
              "  </tbody>\n",
              "</table>\n",
              "</div>"
            ],
            "text/plain": [
              "  Type   Value_A  Value_B        Date\n",
              "0    A  0.812220      1.0  2017-10-01\n",
              "1    A -1.769669      3.0  2017-10-01\n",
              "2    A  0.811668      5.0  2017-10-01\n",
              "3    A  0.746811      7.0  2017-10-01\n",
              "4    B -0.887362      1.0  2017-10-01\n",
              "5    B  0.218713      NaN  2017-10-01"
            ]
          },
          "metadata": {
            "tags": []
          },
          "execution_count": 21
        }
      ]
    },
    {
      "cell_type": "code",
      "metadata": {
        "id": "SbtqBPFQXGZT",
        "colab_type": "code",
        "outputId": "25f1d4a5-43a4-4324-eaee-0d8dabf358b7",
        "colab": {
          "base_uri": "https://localhost:8080/",
          "height": 301
        }
      },
      "source": [
        "# Visualizar mais de um gráfico\n",
        "\n",
        "fig, ax = plt.subplots(1,2)\n",
        "\n",
        "sns.distplot(df['Value_B'])\n"
      ],
      "execution_count": 0,
      "outputs": [
        {
          "output_type": "execute_result",
          "data": {
            "text/plain": [
              "<matplotlib.axes._subplots.AxesSubplot at 0x7fd8fc4d4cc0>"
            ]
          },
          "metadata": {
            "tags": []
          },
          "execution_count": 25
        },
        {
          "output_type": "display_data",
          "data": {
            "image/png": "[encoded data removed]",
            "text/plain": [
              "<Figure size 432x288 with 2 Axes>"
            ]
          },
          "metadata": {
            "tags": []
          }
        }
      ]
    }
  ]
}